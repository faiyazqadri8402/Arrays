{
 "cells": [
  {
   "cell_type": "markdown",
   "metadata": {},
   "source": [
    "### 1st Method \n",
    "###  time complexity - O(n^2)\n",
    "###  Space complexity - O(1)"
   ]
  },
  {
   "cell_type": "code",
   "execution_count": 4,
   "metadata": {},
   "outputs": [],
   "source": [
    "def two_pair(A,target):\n",
    "    for i in range(len(A)-1):\n",
    "        for j in range(i+1,len(A)):\n",
    "            if A[i]+A[j] == target:\n",
    "                print(A[i],A[j])\n",
    "                return True\n",
    "    return False"
   ]
  },
  {
   "cell_type": "code",
   "execution_count": 5,
   "metadata": {},
   "outputs": [
    {
     "name": "stdout",
     "output_type": "stream",
     "text": [
      "1 10\n"
     ]
    },
    {
     "data": {
      "text/plain": [
       "True"
      ]
     },
     "execution_count": 5,
     "metadata": {},
     "output_type": "execute_result"
    }
   ],
   "source": [
    "A = [1,2,4,6,7,8,9,10]\n",
    "two_pair(A,11)"
   ]
  },
  {
   "cell_type": "markdown",
   "metadata": {},
   "source": [
    "### 2nd Method\n",
    "### time complexity - O(1)\n",
    "### Space complexity - O(1)"
   ]
  },
  {
   "cell_type": "code",
   "execution_count": 6,
   "metadata": {},
   "outputs": [],
   "source": [
    "def two_pair_sum(A,target):\n",
    "    i = 0\n",
    "    j = len(A)-1\n",
    "    while i<=j:\n",
    "        if A[i]+A[j]==target:\n",
    "            print(A[i],A[j])\n",
    "            return True\n",
    "        elif A[i]+A[j]<target:\n",
    "            i+=1\n",
    "        else:\n",
    "            j-=1\n",
    "    return False       "
   ]
  },
  {
   "cell_type": "code",
   "execution_count": 7,
   "metadata": {},
   "outputs": [
    {
     "name": "stdout",
     "output_type": "stream",
     "text": [
      "1 10\n"
     ]
    },
    {
     "data": {
      "text/plain": [
       "True"
      ]
     },
     "execution_count": 7,
     "metadata": {},
     "output_type": "execute_result"
    }
   ],
   "source": [
    "A = [1,2,4,6,7,8,9,10]\n",
    "two_pair_sum(A,11)"
   ]
  },
  {
   "cell_type": "markdown",
   "metadata": {},
   "source": [
    "### 3rd method\n",
    "### When we need multiple pairs which meets the target"
   ]
  },
  {
   "cell_type": "code",
   "execution_count": 15,
   "metadata": {},
   "outputs": [],
   "source": [
    "def arrar_pair_sum(A,k):\n",
    "    if len(A)<2:\n",
    "        return\n",
    "    seen = set()\n",
    "    output = set()\n",
    "    for i in A:\n",
    "        target = k-i\n",
    "        if target not in seen:\n",
    "            seen.add(i)\n",
    "        else:\n",
    "            output.add(((min(i,target)),max(i,target)))\n",
    "    print(\"\\n\".join(map(str,list(output))))       \n",
    "            "
   ]
  },
  {
   "cell_type": "code",
   "execution_count": 16,
   "metadata": {},
   "outputs": [
    {
     "name": "stdout",
     "output_type": "stream",
     "text": [
      "(6, 6)\n",
      "(2, 10)\n",
      "(4, 8)\n"
     ]
    }
   ],
   "source": [
    "A = [1,2,4,6,7,8,6,9,10]\n",
    "arrar_pair_sum(A,12)"
   ]
  },
  {
   "cell_type": "code",
   "execution_count": null,
   "metadata": {},
   "outputs": [],
   "source": []
  }
 ],
 "metadata": {
  "kernelspec": {
   "display_name": "Python 3",
   "language": "python",
   "name": "python3"
  },
  "language_info": {
   "codemirror_mode": {
    "name": "ipython",
    "version": 3
   },
   "file_extension": ".py",
   "mimetype": "text/x-python",
   "name": "python",
   "nbconvert_exporter": "python",
   "pygments_lexer": "ipython3",
   "version": "3.6.8"
  }
 },
 "nbformat": 4,
 "nbformat_minor": 4
}
