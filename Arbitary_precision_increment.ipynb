{
 "cells": [
  {
   "cell_type": "code",
   "execution_count": 5,
   "metadata": {},
   "outputs": [],
   "source": [
    "# 1st method\n",
    "def plus_one(arr):\n",
    "    arr[-1] += 1\n",
    "    for i in reversed(range(1,len(arr))):\n",
    "        if arr[i]!=10:\n",
    "            break\n",
    "        arr[i] = 0\n",
    "        arr[i-1]+=1\n",
    "    if arr[0] == 10:\n",
    "        arr[0] = 1\n",
    "        arr.append(0)\n",
    "    return arr    \n",
    "            "
   ]
  },
  {
   "cell_type": "code",
   "execution_count": 9,
   "metadata": {},
   "outputs": [
    {
     "data": {
      "text/plain": [
       "[9, 9, 9, 9, 9, 9, 9]"
      ]
     },
     "execution_count": 9,
     "metadata": {},
     "output_type": "execute_result"
    }
   ],
   "source": [
    "arr = [9,9,9,9,9,9,8]\n",
    "plus_one(arr)"
   ]
  },
  {
   "cell_type": "code",
   "execution_count": 12,
   "metadata": {},
   "outputs": [],
   "source": [
    "# 2nd method\n",
    "def plus(arr):\n",
    "    s = ''.join(map(str,arr))\n",
    "    print(int(s) + 1)"
   ]
  },
  {
   "cell_type": "code",
   "execution_count": 13,
   "metadata": {},
   "outputs": [
    {
     "name": "stdout",
     "output_type": "stream",
     "text": [
      "9999999\n"
     ]
    }
   ],
   "source": [
    "arr = [9,9,9,9,9,9,8]\n",
    "plus(arr)"
   ]
  },
  {
   "cell_type": "code",
   "execution_count": null,
   "metadata": {},
   "outputs": [],
   "source": []
  }
 ],
 "metadata": {
  "kernelspec": {
   "display_name": "Python 3",
   "language": "python",
   "name": "python3"
  },
  "language_info": {
   "codemirror_mode": {
    "name": "ipython",
    "version": 3
   },
   "file_extension": ".py",
   "mimetype": "text/x-python",
   "name": "python",
   "nbconvert_exporter": "python",
   "pygments_lexer": "ipython3",
   "version": "3.6.8"
  }
 },
 "nbformat": 4,
 "nbformat_minor": 4
}
